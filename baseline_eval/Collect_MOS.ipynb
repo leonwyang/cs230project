{
 "cells": [
  {
   "cell_type": "code",
   "execution_count": 1,
   "metadata": {},
   "outputs": [
    {
     "name": "stdout",
     "output_type": "stream",
     "text": [
      " SRGAN_VGG54_ratio_ml  6.85042016807\n",
      " SRGAN_VGG54_WGAN_pre  6.9\n",
      " SRGAN_VGG54_WGAN_ratio_ml  7.32352941176\n",
      " Interpolated_bilinear  3.33109243697\n",
      " SRGAN_MSE  4.8731092437\n",
      " SRGAN_VGG54  7.04537815126\n",
      " SRGAN_combined_WGAN  7.34369747899\n",
      " SRGAN_MSE_WGAN_init  5.59075630252\n",
      " Interpolated_bicubic  3.33781512605\n",
      " SRResnet  4.44830508475\n",
      " SRGAN_VGG54_WGAN_init_2  6.65714285714\n",
      " SRGAN_combined  6.86470588235\n",
      " SRGAN_MSE_input_noise  5.50084033613\n",
      " SRGAN_MSE_label_smoothing  5.80504201681\n",
      " SRResnet_MSE_VGG22_5  5.02118644068\n"
     ]
    }
   ],
   "source": [
    "import os \n",
    "stat_file = \"/home/ubuntu/cs230project/SRGAN-tensorflow/result/MOS_stats.txt\"\n",
    "dic = {}\n",
    "for line in open(stat_file, 'r'):\n",
    "    modelName = line.split(\"\\t\")[1]\n",
    "    score = line.split(\"\\t\")[2]\n",
    "    if modelName in dic.keys():\n",
    "        dic[modelName].append(float(score))\n",
    "    else :\n",
    "        dic[modelName] = [float(score)]\n",
    "for modelName, l in dic.items(): \n",
    "    print modelName, sum(l)/float(len(l))  \n",
    "   "
   ]
  },
  {
   "cell_type": "code",
   "execution_count": null,
   "metadata": {},
   "outputs": [],
   "source": []
  }
 ],
 "metadata": {
  "kernelspec": {
   "display_name": "Python 2",
   "language": "python",
   "name": "python2"
  },
  "language_info": {
   "codemirror_mode": {
    "name": "ipython",
    "version": 2
   },
   "file_extension": ".py",
   "mimetype": "text/x-python",
   "name": "python",
   "nbconvert_exporter": "python",
   "pygments_lexer": "ipython2",
   "version": "2.7.12"
  }
 },
 "nbformat": 4,
 "nbformat_minor": 2
}
